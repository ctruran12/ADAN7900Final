{
 "cells": [
  {
   "cell_type": "code",
   "execution_count": 1,
   "id": "05df6959",
   "metadata": {},
   "outputs": [],
   "source": [
    "import pandasql as psql\n",
    "import pandas as pd\n"
   ]
  },
  {
   "cell_type": "code",
   "execution_count": null,
   "id": "5b9493e9",
   "metadata": {},
   "outputs": [],
   "source": [
    "combine = pd.read_csv(r\"\\combinefinal.csv\")\n",
    "draft = pd.read_csv(r\"\\draftfinal.csv\")\n",
    "probowl = pd.read_csv(r\"\\finalProBowlData.csv\")\n"
   ]
  },
  {
   "cell_type": "code",
   "execution_count": 3,
   "id": "30d61b20",
   "metadata": {},
   "outputs": [],
   "source": [
    "draftAndCombine = psql.sqldf(\"\"\"\n",
    "    SELECT \n",
    "        a.playerId,\n",
    "        a.combineId,\n",
    "        a.combineYear,\n",
    "        a.combinePosition,\n",
    "        a.combineHeight,\n",
    "        a.combineWeight,\n",
    "        a.combineHand,\n",
    "        a.nameFull,\n",
    "        a.position,\n",
    "        a.collegeId,\n",
    "        a.nflId,\n",
    "        a.college,\n",
    "        a.heightInches,\n",
    "        a.weight,\n",
    "        a.dob,\n",
    "        a.ageAtDraft,\n",
    "        a.playerProfileUrl,\n",
    "        a.homeCity,\n",
    "        a.homeState,\n",
    "        a.homeCountry,\n",
    "        a.highSchool,\n",
    "        a.hsCity,\n",
    "        a.hsState,\n",
    "        a.hsCountry,\n",
    "        a.combineArm,\n",
    "        a.combine40yd,\n",
    "        a.combineVert,\n",
    "        a.combineBench,\n",
    "        a.combineShuttle,\n",
    "        a.combineBroad,\n",
    "        a.combine3cone,\n",
    "        a.combine60ydShuttle,\n",
    "        a.combineWonderlic,\n",
    "        b.draft,\n",
    "        b.round,\n",
    "        b.pick,\n",
    "        b.draftTradeValue,\n",
    "        b.draftTeam,\n",
    "        b.teamId\n",
    "    FROM combine AS a\n",
    "    INNER JOIN draft AS b\n",
    "    ON a.playerId = b.playerId\n",
    "\"\"\", )\n"
   ]
  },
  {
   "cell_type": "code",
   "execution_count": null,
   "id": "3a297b54",
   "metadata": {},
   "outputs": [],
   "source": [
    "draftAndCombine.to_csv(r\"\\draftAndCombine.csv\", index=False)"
   ]
  }
 ],
 "metadata": {
  "kernelspec": {
   "display_name": "Python 3",
   "language": "python",
   "name": "python3"
  },
  "language_info": {
   "codemirror_mode": {
    "name": "ipython",
    "version": 3
   },
   "file_extension": ".py",
   "mimetype": "text/x-python",
   "name": "python",
   "nbconvert_exporter": "python",
   "pygments_lexer": "ipython3",
   "version": "3.11.7"
  }
 },
 "nbformat": 4,
 "nbformat_minor": 5
}
