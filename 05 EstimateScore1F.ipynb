{
 "cells": [
  {
   "cell_type": "code",
   "execution_count": null,
   "id": "e4bada43",
   "metadata": {},
   "outputs": [
    {
     "name": "stdout",
     "output_type": "stream",
     "text": [
      "saved\n"
     ]
    }
   ],
   "source": [
    "import pandas as pd\n",
    "from sklearn.linear_model import LinearRegression\n",
    "\n",
    "df = pd.read_csv(r\"\\careerDraftCombine.csv\")\n",
    "\n",
    "# Ensure numeric inputs (simplified if data is clean)\n",
    "df['athleticScore0to10'] = pd.to_numeric(df['athleticScore0to10']).fillna(0)\n",
    "df['draftTradeValue'] = pd.to_numeric(df['draftTradeValue']).fillna(0)\n",
    "df['successScore'] = pd.to_numeric(df['success_score']).fillna(0)\n",
    "\n",
    "\n",
    "x = df[['athleticScore0to10', 'draftTradeValue']]\n",
    "y = df['successScore']\n",
    "\n",
    "# super simple model\n",
    "model = LinearRegression()\n",
    "model.fit(x, y)\n",
    "df['estimatedSuccessScore'] = model.predict(x)\n",
    "df['performanceDiff'] = df['successScore'] - df['estimatedSuccessScore']\n",
    "\n",
    "df.to_csv(r\"\\finalEstimateSuccess.csv\", index=False)\n",
    "\n",
    "print(\"saved\")\n"
   ]
  }
 ],
 "metadata": {
  "kernelspec": {
   "display_name": "Python 3",
   "language": "python",
   "name": "python3"
  },
  "language_info": {
   "codemirror_mode": {
    "name": "ipython",
    "version": 3
   },
   "file_extension": ".py",
   "mimetype": "text/x-python",
   "name": "python",
   "nbconvert_exporter": "python",
   "pygments_lexer": "ipython3",
   "version": "3.11.7"
  }
 },
 "nbformat": 4,
 "nbformat_minor": 5
}
