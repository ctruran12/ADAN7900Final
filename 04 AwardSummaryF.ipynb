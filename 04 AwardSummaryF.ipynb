{
 "cells": [
  {
   "cell_type": "code",
   "execution_count": null,
   "id": "6a822f77",
   "metadata": {},
   "outputs": [
    {
     "name": "stdout",
     "output_type": "stream",
     "text": [
      "saved\n"
     ]
    }
   ],
   "source": [
    "import pandas as pd\n",
    "\n",
    "df = pd.read_csv(r\"\\draftCombineAthleticScore.csv\")\n",
    "careerAwards = pd.read_csv(r\"\\careerAccolades.csv\")#data was aggregated in Excel\n",
    "\n",
    "# Join\n",
    "df = df.merge(careerAwards, on='playerId', how='left')\n",
    "\n",
    "# Fill empty/missing values with 0s\n",
    "df['mvp'] = pd.to_numeric(df.get('MVP', 0), errors='coerce').fillna(0)\n",
    "df['apAllProFlag'] = pd.to_numeric(df.get('AP_All_Pro_Flag', 0), errors='coerce').fillna(0)\n",
    "df['proBowlYear'] = pd.to_numeric(df.get('ProBowlYear', 0), errors='coerce').fillna(0)\n",
    "df['gamesPlayed'] = pd.to_numeric(df.get('games_played', 0), errors='coerce').fillna(0)\n",
    "\n",
    "# Scoring system\n",
    "df['successScore'] = (\n",
    "    df['mvp'] * 9 +\n",
    "    df['apAllProFlag'] * 4.5 +\n",
    "    df['proBowlYear'] * 2.5 +\n",
    "    df['gamesPlayed'] * 0.05\n",
    ")\n",
    "\n",
    "df.to_csv(r\"\\careerDraftCombine.csv\", index=False)\n",
    "\n",
    "print(\"saved\")\n"
   ]
  }
 ],
 "metadata": {
  "kernelspec": {
   "display_name": "Python 3",
   "language": "python",
   "name": "python3"
  },
  "language_info": {
   "codemirror_mode": {
    "name": "ipython",
    "version": 3
   },
   "file_extension": ".py",
   "mimetype": "text/x-python",
   "name": "python",
   "nbconvert_exporter": "python",
   "pygments_lexer": "ipython3",
   "version": "3.11.7"
  }
 },
 "nbformat": 4,
 "nbformat_minor": 5
}
