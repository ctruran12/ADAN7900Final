{
 "cells": [
  {
   "cell_type": "code",
   "execution_count": 1,
   "id": "4a0461f6",
   "metadata": {},
   "outputs": [],
   "source": [
    "import pandas as pd\n",
    "from sklearn.preprocessing import StandardScaler\n",
    "import numpy as np"
   ]
  },
  {
   "cell_type": "code",
   "execution_count": null,
   "id": "61b0c05d",
   "metadata": {},
   "outputs": [
    {
     "name": "stdout",
     "output_type": "stream",
     "text": [
      "done done done\n"
     ]
    }
   ],
   "source": [
    "df = pd.read_csv(r\"\\draftAndCombineAndGames.csv\")\n",
    "\n",
    "positionMap = { #maps individual positions to their group i wanna use for their athletic score\n",
    "    'WR': 'WR',\n",
    "    'RB': 'RB',\n",
    "    'CB': 'DB', 'FS': 'DB', 'SS': 'DB', 'DB': 'DB',\n",
    "    'QB': 'QB',\n",
    "    'TE': 'TE',\n",
    "    'EDGE': 'EDGE', 'DE': 'EDGE', 'LE': 'EDGE', 'RE': 'EDGE', 'OLB': 'EDGE',\n",
    "    'LB': 'MLB', 'MLB': 'MLB', 'WLB': 'MLB'\n",
    "}\n",
    "\n",
    "df['positionGroup'] = df['combinePosition'].map(positionMap)\n",
    "df = df[df['positionGroup'].notna()].copy()\n",
    "\n",
    "\n",
    "metrics = [\n",
    "    'combine40yd', 'combineVert', 'combineBench',\n",
    "    'combineShuttle', 'combineBroad', 'combine3cone',\n",
    "    'heightInches', 'weight'\n",
    "]\n",
    "\n",
    "df['validTestCount'] = df[metrics].notna().sum(axis=1)\n",
    "df = df[df['validTestCount'] >= 3].copy()\n",
    "\n",
    "metricsDir = {\n",
    "    'combine40yd': '-z', #some workouts it is better to have a lower score, so the z is negative because the lower will be more athletic\n",
    "    'combineVert': 'z', #Vertical is the opposite where higher is better\n",
    "    'combineBench': 'z',\n",
    "    'combineShuttle': '-z',\n",
    "    'combineBroad': 'z',\n",
    "    'combine3cone': '-z',\n",
    "    'heightInches': 'z',\n",
    "    'weight': 'z'\n",
    "}\n",
    "\n",
    "scoreColumns = []\n",
    "for metric, direction in metricsDir.items():  \n",
    "    zCol = f\"{metric}Z\" #example 40yarddashZ\n",
    "    scoreColumns.append(zCol)\n",
    "    df[zCol] = np.nan #new column for the new scores\n",
    "    for group in df['positionGroup'].unique():\n",
    "        groupMask = df['positionGroup'] == group\n",
    "        vals = df.loc[groupMask, metric]\n",
    "        scaler = StandardScaler()\n",
    "        z = scaler.fit_transform(vals.values.reshape(-1, 1)).flatten()\n",
    "        if direction == '-z':\n",
    "            z *= -1 #make the z positive now\n",
    "        df.loc[groupMask, zCol] = z\n",
    "\n",
    "df['positionAthleticScore'] = df[scoreColumns].mean(axis=1, skipna=True)\n",
    "\n",
    "df['athleticScore0to10'] = df['positionAthleticScore'].rank(pct=True) * 10 # turns into 0-10 scale \n",
    "\n",
    "# Save it\n",
    "df.to_csv(r\"\\draftCombineAthleticScore.csv\", index=False)\n",
    "\n",
    "print(\"done done done\")\n"
   ]
  }
 ],
 "metadata": {
  "kernelspec": {
   "display_name": "Python 3",
   "language": "python",
   "name": "python3"
  },
  "language_info": {
   "codemirror_mode": {
    "name": "ipython",
    "version": 3
   },
   "file_extension": ".py",
   "mimetype": "text/x-python",
   "name": "python",
   "nbconvert_exporter": "python",
   "pygments_lexer": "ipython3",
   "version": "3.11.7"
  }
 },
 "nbformat": 4,
 "nbformat_minor": 5
}
