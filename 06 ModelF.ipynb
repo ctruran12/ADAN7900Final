{
 "cells": [
  {
   "cell_type": "code",
   "execution_count": 1,
   "id": "7949f9fc",
   "metadata": {},
   "outputs": [],
   "source": [
    "import pandas as pd\n",
    "from sklearn.model_selection import train_test_split\n",
    "from sklearn.preprocessing import StandardScaler\n",
    "from sklearn.compose import ColumnTransformer\n",
    "from sklearn.pipeline import Pipeline\n",
    "from sklearn.metrics import r2_score, mean_absolute_error\n",
    "from sklearn.linear_model import Ridge, Lasso\n",
    "from sklearn.ensemble import RandomForestRegressor\n",
    "from sklearn.tree import DecisionTreeRegressor\n",
    "from sklearn.svm import SVR\n"
   ]
  },
  {
   "cell_type": "code",
   "execution_count": null,
   "id": "55b4c318",
   "metadata": {},
   "outputs": [],
   "source": [
    "df = pd.read_csv(r\"\\finalEstimateSuccess.csv\")\n",
    "\n",
    "numericCols = ['athleticScore0to10', 'draftTradeValue']\n",
    "\n",
    "x = df[numericCols]\n",
    "y = pd.to_numeric(df['success_score'])\n",
    "\n",
    "\n",
    "preprocessor = ColumnTransformer([\n",
    "    ('num', StandardScaler(), numericCols) #standardized num cols\n",
    "])"
   ]
  },
  {
   "cell_type": "code",
   "execution_count": 3,
   "id": "7c45fb0f",
   "metadata": {},
   "outputs": [],
   "source": [
    "\n",
    "models = {\n",
    "    'Ridge': Ridge(),\n",
    "    'Lasso': Lasso(),\n",
    "    'RandomForest': RandomForestRegressor(),\n",
    "    'SVR': SVR(),\n",
    "    'DecisionTree': DecisionTreeRegressor(),\n",
    "}\n",
    "\n",
    "XTrain, XTest, yTrain, yTest = train_test_split(x, y, test_size=0.15, random_state=627)"
   ]
  },
  {
   "cell_type": "code",
   "execution_count": 4,
   "id": "1a1a1821",
   "metadata": {},
   "outputs": [
    {
     "name": "stdout",
     "output_type": "stream",
     "text": [
      "          Model  R2 Score       MAE\n",
      "0         Ridge  0.202495  3.489398\n",
      "1         Lasso  0.158628  3.607032\n",
      "3           SVR  0.081629  3.254827\n",
      "2  RandomForest  0.019987  4.038077\n",
      "4  DecisionTree -0.947048  5.316410\n"
     ]
    }
   ],
   "source": [
    "results = []\n",
    "for name, model in models.items(): \n",
    "    pipe = Pipeline([\n",
    "        ('preprocessor', preprocessor),\n",
    "        ('regressor', model)\n",
    "    ])\n",
    "    pipe.fit(XTrain, yTrain)\n",
    "    yPred = pipe.predict(XTest)\n",
    "    results.append({\n",
    "        'Model': name,\n",
    "        'R2 Score': r2_score(yTest, yPred),\n",
    "        'MAE': mean_absolute_error(yTest, yPred)\n",
    "    })\n",
    "\n",
    "resultsDf = pd.DataFrame(results)\n",
    "print(resultsDf.sort_values(by='R2 Score', ascending=False))\n"
   ]
  },
  {
   "cell_type": "code",
   "execution_count": 5,
   "id": "a1bcf84d",
   "metadata": {},
   "outputs": [
    {
     "name": "stdout",
     "output_type": "stream",
     "text": [
      "athleticScore0to10 0.14187678819632255\n",
      "draftTradeValue 2.540354761378836\n"
     ]
    }
   ],
   "source": [
    "ridge = Ridge()\n",
    "scaler = StandardScaler()\n",
    "X_scaled = scaler.fit_transform(XTrain)\n",
    "ridge.fit(X_scaled, yTrain)\n",
    "\n",
    "for name, coef in zip(numericCols, ridge.coef_):\n",
    "    print(name, coef)\n"
   ]
  }
 ],
 "metadata": {
  "kernelspec": {
   "display_name": "Python 3",
   "language": "python",
   "name": "python3"
  },
  "language_info": {
   "codemirror_mode": {
    "name": "ipython",
    "version": 3
   },
   "file_extension": ".py",
   "mimetype": "text/x-python",
   "name": "python",
   "nbconvert_exporter": "python",
   "pygments_lexer": "ipython3",
   "version": "3.11.7"
  }
 },
 "nbformat": 4,
 "nbformat_minor": 5
}
